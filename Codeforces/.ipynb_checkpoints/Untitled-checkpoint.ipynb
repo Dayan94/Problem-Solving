{
 "cells": [
  {
   "cell_type": "code",
   "execution_count": null,
   "id": "67073fb6-4cb5-4df5-a70a-7d80146d433b",
   "metadata": {},
   "outputs": [],
   "source": [
    "#include <stdio.h>\n",
    "int main()\n",
    "{\n",
    "    long long n,k,i,ans,pos1,pos2,a[100010];\n",
    "    while(scanf(\"%lld%lld\",&n,&k)==2)\n",
    "    {\n",
    "        ans=0;\n",
    "        for(i=0;i<n;i++)\n",
    "        {\n",
    "            scanf(\"%lld\",&a[i]);\n",
    "            pos1=(i+1)*(i+2)/2;\n",
    "            pos2=(i+2)*(i+3)/2;\n",
    "            if(k>pos1&&k<pos2)\n",
    "            {\n",
    "                ans=k-pos1-1;\n",
    "            }\n",
    "            if(k==pos1)\n",
    "            {\n",
    "                ans=i;\n",
    "            }\n",
    " \n",
    "        }\n",
    "        printf(\"%lld\\n\",a[ans]);\n",
    "    }\n",
    "    return 0;\n",
    "}"
   ]
  },
  {
   "cell_type": "code",
   "execution_count": null,
   "id": "93887b88-c33a-4a6d-a967-6018534b210d",
   "metadata": {},
   "outputs": [],
   "source": []
  }
 ],
 "metadata": {
  "kernelspec": {
   "display_name": "C++14 (jupyter-cpp)",
   "language": "c++",
   "name": "cpp14"
  },
  "language_info": {
   "file_extension": ".cpp",
   "mimetype": "text/markdown",
   "name": "text/markdown"
  }
 },
 "nbformat": 4,
 "nbformat_minor": 5
}
